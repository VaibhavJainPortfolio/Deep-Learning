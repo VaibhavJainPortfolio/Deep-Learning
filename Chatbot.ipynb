{
  "nbformat": 4,
  "nbformat_minor": 0,
  "metadata": {
    "colab": {
      "name": "Chatbot.ipynb",
      "provenance": [],
      "collapsed_sections": [],
      "mount_file_id": "1ze8thFx-BkHvLlh1KlKgwOsdlG1BR80m",
      "authorship_tag": "ABX9TyMulKlmEKLxUCrSuPJOxY+3",
      "include_colab_link": true
    },
    "kernelspec": {
      "name": "python3",
      "display_name": "Python 3"
    },
    "accelerator": "GPU"
  },
  "cells": [
    {
      "cell_type": "markdown",
      "metadata": {
        "id": "view-in-github",
        "colab_type": "text"
      },
      "source": [
        "<a href=\"https://colab.research.google.com/github/VaibhavJainPortfolio/Deep-Learning/blob/master/Chatbot.ipynb\" target=\"_parent\"><img src=\"https://colab.research.google.com/assets/colab-badge.svg\" alt=\"Open In Colab\"/></a>"
      ]
    },
    {
      "cell_type": "code",
      "metadata": {
        "id": "uI1l1kpSTTXc",
        "colab_type": "code",
        "colab": {
          "base_uri": "https://localhost:8080/",
          "height": 671
        },
        "outputId": "70adfb86-08c8-45fc-8ff2-44dfdd7edfc5"
      },
      "source": [
        "pip install tensorflow\n"
      ],
      "execution_count": 2,
      "outputs": [
        {
          "output_type": "stream",
          "text": [
            "Requirement already satisfied: tensorflow in /usr/local/lib/python3.6/dist-packages (2.3.0)\n",
            "Requirement already satisfied: astunparse==1.6.3 in /usr/local/lib/python3.6/dist-packages (from tensorflow) (1.6.3)\n",
            "Requirement already satisfied: termcolor>=1.1.0 in /usr/local/lib/python3.6/dist-packages (from tensorflow) (1.1.0)\n",
            "Requirement already satisfied: gast==0.3.3 in /usr/local/lib/python3.6/dist-packages (from tensorflow) (0.3.3)\n",
            "Requirement already satisfied: absl-py>=0.7.0 in /usr/local/lib/python3.6/dist-packages (from tensorflow) (0.9.0)\n",
            "Requirement already satisfied: grpcio>=1.8.6 in /usr/local/lib/python3.6/dist-packages (from tensorflow) (1.30.0)\n",
            "Requirement already satisfied: tensorflow-estimator<2.4.0,>=2.3.0 in /usr/local/lib/python3.6/dist-packages (from tensorflow) (2.3.0)\n",
            "Requirement already satisfied: keras-preprocessing<1.2,>=1.1.1 in /usr/local/lib/python3.6/dist-packages (from tensorflow) (1.1.2)\n",
            "Requirement already satisfied: h5py<2.11.0,>=2.10.0 in /usr/local/lib/python3.6/dist-packages (from tensorflow) (2.10.0)\n",
            "Requirement already satisfied: opt-einsum>=2.3.2 in /usr/local/lib/python3.6/dist-packages (from tensorflow) (3.3.0)\n",
            "Requirement already satisfied: protobuf>=3.9.2 in /usr/local/lib/python3.6/dist-packages (from tensorflow) (3.12.4)\n",
            "Requirement already satisfied: tensorboard<3,>=2.3.0 in /usr/local/lib/python3.6/dist-packages (from tensorflow) (2.3.0)\n",
            "Requirement already satisfied: wheel>=0.26 in /usr/local/lib/python3.6/dist-packages (from tensorflow) (0.34.2)\n",
            "Requirement already satisfied: six>=1.12.0 in /usr/local/lib/python3.6/dist-packages (from tensorflow) (1.15.0)\n",
            "Requirement already satisfied: scipy==1.4.1 in /usr/local/lib/python3.6/dist-packages (from tensorflow) (1.4.1)\n",
            "Requirement already satisfied: google-pasta>=0.1.8 in /usr/local/lib/python3.6/dist-packages (from tensorflow) (0.2.0)\n",
            "Requirement already satisfied: wrapt>=1.11.1 in /usr/local/lib/python3.6/dist-packages (from tensorflow) (1.12.1)\n",
            "Requirement already satisfied: numpy<1.19.0,>=1.16.0 in /usr/local/lib/python3.6/dist-packages (from tensorflow) (1.18.5)\n",
            "Requirement already satisfied: setuptools in /usr/local/lib/python3.6/dist-packages (from protobuf>=3.9.2->tensorflow) (49.2.0)\n",
            "Requirement already satisfied: markdown>=2.6.8 in /usr/local/lib/python3.6/dist-packages (from tensorboard<3,>=2.3.0->tensorflow) (3.2.2)\n",
            "Requirement already satisfied: requests<3,>=2.21.0 in /usr/local/lib/python3.6/dist-packages (from tensorboard<3,>=2.3.0->tensorflow) (2.23.0)\n",
            "Requirement already satisfied: google-auth<2,>=1.6.3 in /usr/local/lib/python3.6/dist-packages (from tensorboard<3,>=2.3.0->tensorflow) (1.17.2)\n",
            "Requirement already satisfied: tensorboard-plugin-wit>=1.6.0 in /usr/local/lib/python3.6/dist-packages (from tensorboard<3,>=2.3.0->tensorflow) (1.7.0)\n",
            "Requirement already satisfied: google-auth-oauthlib<0.5,>=0.4.1 in /usr/local/lib/python3.6/dist-packages (from tensorboard<3,>=2.3.0->tensorflow) (0.4.1)\n",
            "Requirement already satisfied: werkzeug>=0.11.15 in /usr/local/lib/python3.6/dist-packages (from tensorboard<3,>=2.3.0->tensorflow) (1.0.1)\n",
            "Requirement already satisfied: importlib-metadata; python_version < \"3.8\" in /usr/local/lib/python3.6/dist-packages (from markdown>=2.6.8->tensorboard<3,>=2.3.0->tensorflow) (1.7.0)\n",
            "Requirement already satisfied: chardet<4,>=3.0.2 in /usr/local/lib/python3.6/dist-packages (from requests<3,>=2.21.0->tensorboard<3,>=2.3.0->tensorflow) (3.0.4)\n",
            "Requirement already satisfied: certifi>=2017.4.17 in /usr/local/lib/python3.6/dist-packages (from requests<3,>=2.21.0->tensorboard<3,>=2.3.0->tensorflow) (2020.6.20)\n",
            "Requirement already satisfied: urllib3!=1.25.0,!=1.25.1,<1.26,>=1.21.1 in /usr/local/lib/python3.6/dist-packages (from requests<3,>=2.21.0->tensorboard<3,>=2.3.0->tensorflow) (1.24.3)\n",
            "Requirement already satisfied: idna<3,>=2.5 in /usr/local/lib/python3.6/dist-packages (from requests<3,>=2.21.0->tensorboard<3,>=2.3.0->tensorflow) (2.10)\n",
            "Requirement already satisfied: pyasn1-modules>=0.2.1 in /usr/local/lib/python3.6/dist-packages (from google-auth<2,>=1.6.3->tensorboard<3,>=2.3.0->tensorflow) (0.2.8)\n",
            "Requirement already satisfied: rsa<5,>=3.1.4; python_version >= \"3\" in /usr/local/lib/python3.6/dist-packages (from google-auth<2,>=1.6.3->tensorboard<3,>=2.3.0->tensorflow) (4.6)\n",
            "Requirement already satisfied: cachetools<5.0,>=2.0.0 in /usr/local/lib/python3.6/dist-packages (from google-auth<2,>=1.6.3->tensorboard<3,>=2.3.0->tensorflow) (4.1.1)\n",
            "Requirement already satisfied: requests-oauthlib>=0.7.0 in /usr/local/lib/python3.6/dist-packages (from google-auth-oauthlib<0.5,>=0.4.1->tensorboard<3,>=2.3.0->tensorflow) (1.3.0)\n",
            "Requirement already satisfied: zipp>=0.5 in /usr/local/lib/python3.6/dist-packages (from importlib-metadata; python_version < \"3.8\"->markdown>=2.6.8->tensorboard<3,>=2.3.0->tensorflow) (3.1.0)\n",
            "Requirement already satisfied: pyasn1<0.5.0,>=0.4.6 in /usr/local/lib/python3.6/dist-packages (from pyasn1-modules>=0.2.1->google-auth<2,>=1.6.3->tensorboard<3,>=2.3.0->tensorflow) (0.4.8)\n",
            "Requirement already satisfied: oauthlib>=3.0.0 in /usr/local/lib/python3.6/dist-packages (from requests-oauthlib>=0.7.0->google-auth-oauthlib<0.5,>=0.4.1->tensorboard<3,>=2.3.0->tensorflow) (3.1.0)\n"
          ],
          "name": "stdout"
        }
      ]
    },
    {
      "cell_type": "code",
      "metadata": {
        "id": "ShUFNZFzWZUm",
        "colab_type": "code",
        "colab": {
          "base_uri": "https://localhost:8080/",
          "height": 120
        },
        "outputId": "6329d69a-3612-4c80-956d-396e72b66a25"
      },
      "source": [
        "pip install keras\n"
      ],
      "execution_count": 4,
      "outputs": [
        {
          "output_type": "stream",
          "text": [
            "Requirement already satisfied: keras in /usr/local/lib/python3.6/dist-packages (2.4.3)\n",
            "Requirement already satisfied: numpy>=1.9.1 in /usr/local/lib/python3.6/dist-packages (from keras) (1.18.5)\n",
            "Requirement already satisfied: pyyaml in /usr/local/lib/python3.6/dist-packages (from keras) (3.13)\n",
            "Requirement already satisfied: h5py in /usr/local/lib/python3.6/dist-packages (from keras) (2.10.0)\n",
            "Requirement already satisfied: scipy>=0.14 in /usr/local/lib/python3.6/dist-packages (from keras) (1.4.1)\n",
            "Requirement already satisfied: six in /usr/local/lib/python3.6/dist-packages (from h5py->keras) (1.15.0)\n"
          ],
          "name": "stdout"
        }
      ]
    },
    {
      "cell_type": "code",
      "metadata": {
        "id": "wpDU0jQtWiwz",
        "colab_type": "code",
        "colab": {
          "base_uri": "https://localhost:8080/",
          "height": 191
        },
        "outputId": "daf87040-8c65-4c7f-8b50-9b3a599bec91"
      },
      "source": [
        "pip install pickle-mixin"
      ],
      "execution_count": 7,
      "outputs": [
        {
          "output_type": "stream",
          "text": [
            "Collecting pickle-mixin\n",
            "  Downloading https://files.pythonhosted.org/packages/02/77/9d5eb2201bbc130e2a5cc41fc949e4ab0da74b619107eac1c511be3af7a7/pickle-mixin-1.0.2.tar.gz\n",
            "Building wheels for collected packages: pickle-mixin\n",
            "  Building wheel for pickle-mixin (setup.py) ... \u001b[?25l\u001b[?25hdone\n",
            "  Created wheel for pickle-mixin: filename=pickle_mixin-1.0.2-cp36-none-any.whl size=5998 sha256=9ecde14ba5a64b61d58672a7df24329ebfa155114a92305447ab36ef61064874\n",
            "  Stored in directory: /root/.cache/pip/wheels/cd/05/42/71de70fa36b9cbb7657bb5793a16f8028c1cdc1bdd3b8e1ac3\n",
            "Successfully built pickle-mixin\n",
            "Installing collected packages: pickle-mixin\n",
            "Successfully installed pickle-mixin-1.0.2\n"
          ],
          "name": "stdout"
        }
      ]
    },
    {
      "cell_type": "code",
      "metadata": {
        "id": "FXSvHiaNXFAS",
        "colab_type": "code",
        "colab": {
          "base_uri": "https://localhost:8080/",
          "height": 51
        },
        "outputId": "ac55417a-c71f-42a1-bc36-454ad9cdf48c"
      },
      "source": [
        "pip install nltk\n"
      ],
      "execution_count": 14,
      "outputs": [
        {
          "output_type": "stream",
          "text": [
            "Requirement already satisfied: nltk in /usr/local/lib/python3.6/dist-packages (3.2.5)\n",
            "Requirement already satisfied: six in /usr/local/lib/python3.6/dist-packages (from nltk) (1.15.0)\n"
          ],
          "name": "stdout"
        }
      ]
    },
    {
      "cell_type": "code",
      "metadata": {
        "id": "8M1vLDXRYd4S",
        "colab_type": "code",
        "colab": {
          "base_uri": "https://localhost:8080/",
          "height": 103
        },
        "outputId": "78d40a3d-df61-4fed-a758-e671bb9f23cb"
      },
      "source": [
        "nltk.download('punkt')\n",
        "nltk.download('wordnet')"
      ],
      "execution_count": 21,
      "outputs": [
        {
          "output_type": "stream",
          "text": [
            "[nltk_data] Downloading package punkt to /root/nltk_data...\n",
            "[nltk_data]   Package punkt is already up-to-date!\n",
            "[nltk_data] Downloading package wordnet to /root/nltk_data...\n",
            "[nltk_data]   Unzipping corpora/wordnet.zip.\n"
          ],
          "name": "stdout"
        },
        {
          "output_type": "execute_result",
          "data": {
            "text/plain": [
              "True"
            ]
          },
          "metadata": {
            "tags": []
          },
          "execution_count": 21
        }
      ]
    },
    {
      "cell_type": "code",
      "metadata": {
        "id": "mYlkKx7IXJLY",
        "colab_type": "code",
        "colab": {}
      },
      "source": [
        "import nltk\n",
        "from nltk.stem import WordNetLemmatizer\n",
        "lemmatizer = WordNetLemmatizer()\n",
        "import json\n",
        "import pickle"
      ],
      "execution_count": 16,
      "outputs": []
    },
    {
      "cell_type": "code",
      "metadata": {
        "id": "g6EaUNDtX261",
        "colab_type": "code",
        "colab": {}
      },
      "source": [
        "import numpy as np\n",
        "from keras.models import Sequential\n",
        "from keras.layers import Dense, Activation, Dropout\n",
        "from keras.optimizers import SGD\n",
        "import random"
      ],
      "execution_count": 17,
      "outputs": []
    },
    {
      "cell_type": "code",
      "metadata": {
        "id": "sQn3hrhPX7u9",
        "colab_type": "code",
        "colab": {}
      },
      "source": [
        "words=[]\n",
        "classes = []\n",
        "documents = []\n",
        "ignore_words = ['?', '!']\n",
        "data_file = open('intents.json').read()\n",
        "intents = json.loads(data_file)"
      ],
      "execution_count": 18,
      "outputs": []
    },
    {
      "cell_type": "code",
      "metadata": {
        "id": "2vxW5FxfYBHB",
        "colab_type": "code",
        "colab": {}
      },
      "source": [
        "for intent in intents['intents']:\n",
        "    for pattern in intent['patterns']:\n",
        "        #tokenize each word\n",
        "        w = nltk.word_tokenize(pattern)\n",
        "        words.extend(w)\n",
        "        #add documents in the corpus\n",
        "        documents.append((w, intent['tag']))\n",
        "        # add to our classes list\n",
        "        if intent['tag'] not in classes:\n",
        "            classes.append(intent['tag'])"
      ],
      "execution_count": 19,
      "outputs": []
    },
    {
      "cell_type": "code",
      "metadata": {
        "id": "vpAhUgBjYkkz",
        "colab_type": "code",
        "colab": {
          "base_uri": "https://localhost:8080/",
          "height": 89
        },
        "outputId": "37cff95a-2457-4ecd-f167-05734e62ba2c"
      },
      "source": [
        "\n",
        "# lemmatize, lower each word and remove duplicates\n",
        "words = [lemmatizer.lemmatize(w.lower()) for w in words if w not in ignore_words]\n",
        "words = sorted(list(set(words)))\n",
        "# sort classes\n",
        "classes = sorted(list(set(classes)))\n",
        "# documents = combination between patterns and intents\n",
        "print (len(documents), \"documents\")\n",
        "# classes = intents\n",
        "print (len(classes), \"classes\", classes)\n",
        "# words = all words, vocabulary\n",
        "print (len(words), \"unique lemmatized words\", words)\n",
        "pickle.dump(words,open('words.pkl','wb'))\n",
        "pickle.dump(classes,open('classes.pkl','wb'))"
      ],
      "execution_count": 22,
      "outputs": [
        {
          "output_type": "stream",
          "text": [
            "47 documents\n",
            "9 classes ['adverse_drug', 'blood_pressure', 'blood_pressure_search', 'goodbye', 'greeting', 'hospital_search', 'options', 'pharmacy_search', 'thanks']\n",
            "88 unique lemmatized words [\"'s\", ',', 'a', 'adverse', 'all', 'anyone', 'are', 'awesome', 'be', 'behavior', 'blood', 'by', 'bye', 'can', 'causing', 'chatting', 'check', 'could', 'data', 'day', 'detail', 'do', 'dont', 'drug', 'entry', 'find', 'for', 'give', 'good', 'goodbye', 'have', 'hello', 'help', 'helpful', 'helping', 'hey', 'hi', 'history', 'hola', 'hospital', 'how', 'i', 'id', 'is', 'later', 'list', 'load', 'locate', 'log', 'looking', 'lookup', 'management', 'me', 'module', 'nearby', 'next', 'nice', 'of', 'offered', 'open', 'patient', 'pharmacy', 'pressure', 'provide', 'reaction', 'related', 'result', 'search', 'searching', 'see', 'show', 'suitable', 'support', 'task', 'thank', 'thanks', 'that', 'there', 'till', 'time', 'to', 'transfer', 'up', 'want', 'what', 'which', 'with', 'you']\n"
          ],
          "name": "stdout"
        }
      ]
    },
    {
      "cell_type": "code",
      "metadata": {
        "id": "2nB4SR6zZCDE",
        "colab_type": "code",
        "colab": {
          "base_uri": "https://localhost:8080/",
          "height": 34
        },
        "outputId": "c7652d55-631d-4c35-b2fc-9b88e7f7e19b"
      },
      "source": [
        "# create our training data\n",
        "training = []\n",
        "# create an empty array for our output\n",
        "output_empty = [0] * len(classes)\n",
        "# training set, bag of words for each sentence\n",
        "for doc in documents:\n",
        "    # initialize our bag of words\n",
        "    bag = []\n",
        "    # list of tokenized words for the pattern\n",
        "    pattern_words = doc[0]\n",
        "    # lemmatize each word - create base word, in attempt to represent related words\n",
        "    pattern_words = [lemmatizer.lemmatize(word.lower()) for word in pattern_words]\n",
        "    # create our bag of words array with 1, if word match found in current pattern\n",
        "for w in words:\n",
        "    bag.append(1) if w in pattern_words else bag.append(0)\n",
        "    pass\n",
        "    # output is a '0' for each tag and '1' for current tag (for each pattern)\n",
        "    output_row = list(output_empty)\n",
        "    output_row[classes.index(doc[1])] = 1\n",
        "    training.append([bag, output_row])\n",
        "# shuffle our features and turn into np.array\n",
        "random.shuffle(training)\n",
        "training = np.array(training)\n",
        "# create train and test lists. X - patterns, Y - intents\n",
        "train_x = list(training[:,0])\n",
        "train_y = list(training[:,1])\n",
        "print(\"Training data created\")"
      ],
      "execution_count": 24,
      "outputs": [
        {
          "output_type": "stream",
          "text": [
            "Training data created\n"
          ],
          "name": "stdout"
        }
      ]
    },
    {
      "cell_type": "code",
      "metadata": {
        "id": "MoGd5lUOZ9Fc",
        "colab_type": "code",
        "colab": {
          "base_uri": "https://localhost:8080/",
          "height": 1000
        },
        "outputId": "778eb817-fdb8-422f-b726-7656153eae27"
      },
      "source": [
        "# Create model - 3 layers. First layer 128 neurons, second layer 64 neurons and 3rd output layer contains number of neurons\n",
        "# equal to number of intents to predict output intent with softmax\n",
        "model = Sequential()\n",
        "model.add(Dense(128, input_shape=(len(train_x[0]),), activation='relu'))\n",
        "model.add(Dropout(0.5))\n",
        "model.add(Dense(64, activation='relu'))\n",
        "model.add(Dropout(0.5))\n",
        "model.add(Dense(len(train_y[0]), activation='softmax'))\n",
        "# Compile model. Stochastic gradient descent with Nesterov accelerated gradient gives good results for this model\n",
        "sgd = SGD(lr=0.01, decay=1e-6, momentum=0.9, nesterov=True)\n",
        "model.compile(loss='categorical_crossentropy', optimizer=sgd, metrics=['accuracy'])\n",
        "#fitting and saving the model \n",
        "hist = model.fit(np.array(train_x), np.array(train_y), epochs=200, batch_size=5, verbose=1)\n",
        "model.save('chatbot_model.h5', hist)\n",
        "print(\"model created\")"
      ],
      "execution_count": 25,
      "outputs": [
        {
          "output_type": "stream",
          "text": [
            "Epoch 1/200\n",
            "18/18 [==============================] - 0s 2ms/step - loss: 1.1348 - accuracy: 0.8295\n",
            "Epoch 2/200\n",
            "18/18 [==============================] - 0s 2ms/step - loss: 0.0179 - accuracy: 1.0000\n",
            "Epoch 3/200\n",
            "18/18 [==============================] - 0s 2ms/step - loss: 0.0050 - accuracy: 1.0000\n",
            "Epoch 4/200\n",
            "18/18 [==============================] - 0s 2ms/step - loss: 0.0026 - accuracy: 1.0000\n",
            "Epoch 5/200\n",
            "18/18 [==============================] - 0s 2ms/step - loss: 7.6226e-04 - accuracy: 1.0000\n",
            "Epoch 6/200\n",
            "18/18 [==============================] - 0s 2ms/step - loss: 0.0028 - accuracy: 1.0000\n",
            "Epoch 7/200\n",
            "18/18 [==============================] - 0s 2ms/step - loss: 0.0074 - accuracy: 1.0000\n",
            "Epoch 8/200\n",
            "18/18 [==============================] - 0s 2ms/step - loss: 9.4374e-04 - accuracy: 1.0000\n",
            "Epoch 9/200\n",
            "18/18 [==============================] - 0s 2ms/step - loss: 0.0012 - accuracy: 1.0000\n",
            "Epoch 10/200\n",
            "18/18 [==============================] - 0s 2ms/step - loss: 0.0010 - accuracy: 1.0000\n",
            "Epoch 11/200\n",
            "18/18 [==============================] - 0s 2ms/step - loss: 8.1174e-04 - accuracy: 1.0000\n",
            "Epoch 12/200\n",
            "18/18 [==============================] - 0s 2ms/step - loss: 0.0012 - accuracy: 1.0000\n",
            "Epoch 13/200\n",
            "18/18 [==============================] - 0s 2ms/step - loss: 0.0034 - accuracy: 1.0000\n",
            "Epoch 14/200\n",
            "18/18 [==============================] - 0s 2ms/step - loss: 0.0030 - accuracy: 1.0000\n",
            "Epoch 15/200\n",
            "18/18 [==============================] - 0s 2ms/step - loss: 2.7037e-04 - accuracy: 1.0000\n",
            "Epoch 16/200\n",
            "18/18 [==============================] - 0s 2ms/step - loss: 9.0743e-04 - accuracy: 1.0000\n",
            "Epoch 17/200\n",
            "18/18 [==============================] - 0s 2ms/step - loss: 0.0034 - accuracy: 1.0000\n",
            "Epoch 18/200\n",
            "18/18 [==============================] - 0s 2ms/step - loss: 1.4350e-04 - accuracy: 1.0000\n",
            "Epoch 19/200\n",
            "18/18 [==============================] - 0s 2ms/step - loss: 7.4666e-04 - accuracy: 1.0000\n",
            "Epoch 20/200\n",
            "18/18 [==============================] - 0s 2ms/step - loss: 0.0012 - accuracy: 1.0000\n",
            "Epoch 21/200\n",
            "18/18 [==============================] - 0s 2ms/step - loss: 4.2332e-04 - accuracy: 1.0000\n",
            "Epoch 22/200\n",
            "18/18 [==============================] - 0s 2ms/step - loss: 6.2142e-04 - accuracy: 1.0000\n",
            "Epoch 23/200\n",
            "18/18 [==============================] - 0s 2ms/step - loss: 4.9498e-04 - accuracy: 1.0000\n",
            "Epoch 24/200\n",
            "18/18 [==============================] - 0s 2ms/step - loss: 1.1583e-04 - accuracy: 1.0000\n",
            "Epoch 25/200\n",
            "18/18 [==============================] - 0s 2ms/step - loss: 0.0023 - accuracy: 1.0000\n",
            "Epoch 26/200\n",
            "18/18 [==============================] - 0s 3ms/step - loss: 0.0034 - accuracy: 1.0000\n",
            "Epoch 27/200\n",
            "18/18 [==============================] - 0s 2ms/step - loss: 3.7543e-04 - accuracy: 1.0000\n",
            "Epoch 28/200\n",
            "18/18 [==============================] - 0s 2ms/step - loss: 1.6364e-04 - accuracy: 1.0000\n",
            "Epoch 29/200\n",
            "18/18 [==============================] - 0s 2ms/step - loss: 0.0052 - accuracy: 1.0000\n",
            "Epoch 30/200\n",
            "18/18 [==============================] - 0s 2ms/step - loss: 6.4623e-04 - accuracy: 1.0000\n",
            "Epoch 31/200\n",
            "18/18 [==============================] - 0s 2ms/step - loss: 9.3884e-04 - accuracy: 1.0000\n",
            "Epoch 32/200\n",
            "18/18 [==============================] - 0s 2ms/step - loss: 1.1484e-04 - accuracy: 1.0000\n",
            "Epoch 33/200\n",
            "18/18 [==============================] - 0s 2ms/step - loss: 2.4858e-04 - accuracy: 1.0000\n",
            "Epoch 34/200\n",
            "18/18 [==============================] - 0s 2ms/step - loss: 0.0018 - accuracy: 1.0000\n",
            "Epoch 35/200\n",
            "18/18 [==============================] - 0s 2ms/step - loss: 1.4370e-04 - accuracy: 1.0000\n",
            "Epoch 36/200\n",
            "18/18 [==============================] - 0s 2ms/step - loss: 1.3822e-04 - accuracy: 1.0000\n",
            "Epoch 37/200\n",
            "18/18 [==============================] - 0s 2ms/step - loss: 0.0062 - accuracy: 1.0000\n",
            "Epoch 38/200\n",
            "18/18 [==============================] - 0s 2ms/step - loss: 8.5237e-05 - accuracy: 1.0000\n",
            "Epoch 39/200\n",
            "18/18 [==============================] - 0s 2ms/step - loss: 3.1005e-04 - accuracy: 1.0000\n",
            "Epoch 40/200\n",
            "18/18 [==============================] - 0s 2ms/step - loss: 4.3176e-05 - accuracy: 1.0000\n",
            "Epoch 41/200\n",
            "18/18 [==============================] - 0s 2ms/step - loss: 2.9782e-04 - accuracy: 1.0000\n",
            "Epoch 42/200\n",
            "18/18 [==============================] - 0s 2ms/step - loss: 2.1121e-04 - accuracy: 1.0000\n",
            "Epoch 43/200\n",
            "18/18 [==============================] - 0s 2ms/step - loss: 6.3741e-04 - accuracy: 1.0000\n",
            "Epoch 44/200\n",
            "18/18 [==============================] - 0s 2ms/step - loss: 1.3537e-04 - accuracy: 1.0000\n",
            "Epoch 45/200\n",
            "18/18 [==============================] - 0s 2ms/step - loss: 3.3887e-05 - accuracy: 1.0000\n",
            "Epoch 46/200\n",
            "18/18 [==============================] - 0s 2ms/step - loss: 1.1537e-05 - accuracy: 1.0000\n",
            "Epoch 47/200\n",
            "18/18 [==============================] - 0s 2ms/step - loss: 7.3423e-05 - accuracy: 1.0000\n",
            "Epoch 48/200\n",
            "18/18 [==============================] - 0s 2ms/step - loss: 1.4365e-04 - accuracy: 1.0000\n",
            "Epoch 49/200\n",
            "18/18 [==============================] - 0s 3ms/step - loss: 5.1033e-04 - accuracy: 1.0000\n",
            "Epoch 50/200\n",
            "18/18 [==============================] - 0s 2ms/step - loss: 5.0688e-04 - accuracy: 1.0000\n",
            "Epoch 51/200\n",
            "18/18 [==============================] - 0s 2ms/step - loss: 1.4259e-04 - accuracy: 1.0000\n",
            "Epoch 52/200\n",
            "18/18 [==============================] - 0s 2ms/step - loss: 1.6305e-04 - accuracy: 1.0000\n",
            "Epoch 53/200\n",
            "18/18 [==============================] - 0s 2ms/step - loss: 7.1306e-05 - accuracy: 1.0000\n",
            "Epoch 54/200\n",
            "18/18 [==============================] - 0s 3ms/step - loss: 0.0021 - accuracy: 1.0000\n",
            "Epoch 55/200\n",
            "18/18 [==============================] - 0s 2ms/step - loss: 6.8833e-05 - accuracy: 1.0000\n",
            "Epoch 56/200\n",
            "18/18 [==============================] - 0s 2ms/step - loss: 4.1602e-04 - accuracy: 1.0000\n",
            "Epoch 57/200\n",
            "18/18 [==============================] - 0s 2ms/step - loss: 2.0431e-04 - accuracy: 1.0000\n",
            "Epoch 58/200\n",
            "18/18 [==============================] - 0s 2ms/step - loss: 9.8518e-05 - accuracy: 1.0000\n",
            "Epoch 59/200\n",
            "18/18 [==============================] - 0s 2ms/step - loss: 1.9913e-04 - accuracy: 1.0000\n",
            "Epoch 60/200\n",
            "18/18 [==============================] - 0s 2ms/step - loss: 2.1295e-04 - accuracy: 1.0000\n",
            "Epoch 61/200\n",
            "18/18 [==============================] - 0s 2ms/step - loss: 3.4892e-04 - accuracy: 1.0000\n",
            "Epoch 62/200\n",
            "18/18 [==============================] - 0s 2ms/step - loss: 2.8158e-04 - accuracy: 1.0000\n",
            "Epoch 63/200\n",
            "18/18 [==============================] - 0s 2ms/step - loss: 4.3150e-04 - accuracy: 1.0000\n",
            "Epoch 64/200\n",
            "18/18 [==============================] - 0s 2ms/step - loss: 6.9382e-04 - accuracy: 1.0000\n",
            "Epoch 65/200\n",
            "18/18 [==============================] - 0s 2ms/step - loss: 5.4735e-04 - accuracy: 1.0000\n",
            "Epoch 66/200\n",
            "18/18 [==============================] - 0s 2ms/step - loss: 5.5410e-05 - accuracy: 1.0000\n",
            "Epoch 67/200\n",
            "18/18 [==============================] - 0s 2ms/step - loss: 2.2776e-04 - accuracy: 1.0000\n",
            "Epoch 68/200\n",
            "18/18 [==============================] - 0s 2ms/step - loss: 7.9573e-05 - accuracy: 1.0000\n",
            "Epoch 69/200\n",
            "18/18 [==============================] - 0s 2ms/step - loss: 0.0014 - accuracy: 1.0000\n",
            "Epoch 70/200\n",
            "18/18 [==============================] - 0s 2ms/step - loss: 7.0199e-05 - accuracy: 1.0000\n",
            "Epoch 71/200\n",
            "18/18 [==============================] - 0s 2ms/step - loss: 9.5543e-05 - accuracy: 1.0000\n",
            "Epoch 72/200\n",
            "18/18 [==============================] - 0s 2ms/step - loss: 1.8304e-04 - accuracy: 1.0000\n",
            "Epoch 73/200\n",
            "18/18 [==============================] - 0s 2ms/step - loss: 2.2055e-04 - accuracy: 1.0000\n",
            "Epoch 74/200\n",
            "18/18 [==============================] - 0s 2ms/step - loss: 5.6197e-04 - accuracy: 1.0000\n",
            "Epoch 75/200\n",
            "18/18 [==============================] - 0s 2ms/step - loss: 0.0016 - accuracy: 1.0000\n",
            "Epoch 76/200\n",
            "18/18 [==============================] - 0s 2ms/step - loss: 3.0558e-04 - accuracy: 1.0000\n",
            "Epoch 77/200\n",
            "18/18 [==============================] - 0s 2ms/step - loss: 9.7964e-05 - accuracy: 1.0000\n",
            "Epoch 78/200\n",
            "18/18 [==============================] - 0s 2ms/step - loss: 4.3191e-05 - accuracy: 1.0000\n",
            "Epoch 79/200\n",
            "18/18 [==============================] - 0s 2ms/step - loss: 2.8500e-05 - accuracy: 1.0000\n",
            "Epoch 80/200\n",
            "18/18 [==============================] - 0s 3ms/step - loss: 1.0709e-04 - accuracy: 1.0000\n",
            "Epoch 81/200\n",
            "18/18 [==============================] - 0s 2ms/step - loss: 1.1618e-04 - accuracy: 1.0000\n",
            "Epoch 82/200\n",
            "18/18 [==============================] - 0s 2ms/step - loss: 1.4961e-04 - accuracy: 1.0000\n",
            "Epoch 83/200\n",
            "18/18 [==============================] - 0s 2ms/step - loss: 1.1734e-04 - accuracy: 1.0000\n",
            "Epoch 84/200\n",
            "18/18 [==============================] - 0s 2ms/step - loss: 7.6236e-06 - accuracy: 1.0000\n",
            "Epoch 85/200\n",
            "18/18 [==============================] - 0s 2ms/step - loss: 6.3796e-04 - accuracy: 1.0000\n",
            "Epoch 86/200\n",
            "18/18 [==============================] - 0s 2ms/step - loss: 2.2824e-04 - accuracy: 1.0000\n",
            "Epoch 87/200\n",
            "18/18 [==============================] - 0s 2ms/step - loss: 4.2328e-05 - accuracy: 1.0000\n",
            "Epoch 88/200\n",
            "18/18 [==============================] - 0s 2ms/step - loss: 1.7359e-04 - accuracy: 1.0000\n",
            "Epoch 89/200\n",
            "18/18 [==============================] - 0s 2ms/step - loss: 5.9553e-05 - accuracy: 1.0000\n",
            "Epoch 90/200\n",
            "18/18 [==============================] - 0s 2ms/step - loss: 9.9382e-05 - accuracy: 1.0000\n",
            "Epoch 91/200\n",
            "18/18 [==============================] - 0s 2ms/step - loss: 2.7392e-04 - accuracy: 1.0000\n",
            "Epoch 92/200\n",
            "18/18 [==============================] - 0s 2ms/step - loss: 2.1873e-04 - accuracy: 1.0000\n",
            "Epoch 93/200\n",
            "18/18 [==============================] - 0s 2ms/step - loss: 9.6765e-05 - accuracy: 1.0000\n",
            "Epoch 94/200\n",
            "18/18 [==============================] - 0s 2ms/step - loss: 7.5120e-05 - accuracy: 1.0000\n",
            "Epoch 95/200\n",
            "18/18 [==============================] - 0s 2ms/step - loss: 5.3220e-04 - accuracy: 1.0000\n",
            "Epoch 96/200\n",
            "18/18 [==============================] - 0s 2ms/step - loss: 2.5458e-04 - accuracy: 1.0000\n",
            "Epoch 97/200\n",
            "18/18 [==============================] - 0s 2ms/step - loss: 2.2488e-04 - accuracy: 1.0000\n",
            "Epoch 98/200\n",
            "18/18 [==============================] - 0s 2ms/step - loss: 9.4756e-05 - accuracy: 1.0000\n",
            "Epoch 99/200\n",
            "18/18 [==============================] - 0s 2ms/step - loss: 1.0808e-04 - accuracy: 1.0000\n",
            "Epoch 100/200\n",
            "18/18 [==============================] - 0s 2ms/step - loss: 5.9102e-05 - accuracy: 1.0000\n",
            "Epoch 101/200\n",
            "18/18 [==============================] - 0s 2ms/step - loss: 8.0665e-04 - accuracy: 1.0000\n",
            "Epoch 102/200\n",
            "18/18 [==============================] - 0s 2ms/step - loss: 2.9884e-05 - accuracy: 1.0000\n",
            "Epoch 103/200\n",
            "18/18 [==============================] - 0s 2ms/step - loss: 6.7358e-04 - accuracy: 1.0000\n",
            "Epoch 104/200\n",
            "18/18 [==============================] - 0s 2ms/step - loss: 3.9255e-04 - accuracy: 1.0000\n",
            "Epoch 105/200\n",
            "18/18 [==============================] - 0s 2ms/step - loss: 7.6103e-05 - accuracy: 1.0000\n",
            "Epoch 106/200\n",
            "18/18 [==============================] - 0s 2ms/step - loss: 1.4102e-04 - accuracy: 1.0000\n",
            "Epoch 107/200\n",
            "18/18 [==============================] - 0s 2ms/step - loss: 6.9352e-04 - accuracy: 1.0000\n",
            "Epoch 108/200\n",
            "18/18 [==============================] - 0s 2ms/step - loss: 7.7689e-05 - accuracy: 1.0000\n",
            "Epoch 109/200\n",
            "18/18 [==============================] - 0s 2ms/step - loss: 1.6588e-04 - accuracy: 1.0000\n",
            "Epoch 110/200\n",
            "18/18 [==============================] - 0s 2ms/step - loss: 6.1321e-05 - accuracy: 1.0000\n",
            "Epoch 111/200\n",
            "18/18 [==============================] - 0s 2ms/step - loss: 6.3692e-05 - accuracy: 1.0000\n",
            "Epoch 112/200\n",
            "18/18 [==============================] - 0s 2ms/step - loss: 6.7849e-05 - accuracy: 1.0000\n",
            "Epoch 113/200\n",
            "18/18 [==============================] - 0s 2ms/step - loss: 6.5347e-04 - accuracy: 1.0000\n",
            "Epoch 114/200\n",
            "18/18 [==============================] - 0s 2ms/step - loss: 2.9796e-04 - accuracy: 1.0000\n",
            "Epoch 115/200\n",
            "18/18 [==============================] - 0s 2ms/step - loss: 2.4931e-05 - accuracy: 1.0000\n",
            "Epoch 116/200\n",
            "18/18 [==============================] - 0s 2ms/step - loss: 1.9128e-04 - accuracy: 1.0000\n",
            "Epoch 117/200\n",
            "18/18 [==============================] - 0s 2ms/step - loss: 8.9327e-05 - accuracy: 1.0000\n",
            "Epoch 118/200\n",
            "18/18 [==============================] - 0s 2ms/step - loss: 2.9551e-04 - accuracy: 1.0000\n",
            "Epoch 119/200\n",
            "18/18 [==============================] - 0s 3ms/step - loss: 2.4506e-04 - accuracy: 1.0000\n",
            "Epoch 120/200\n",
            "18/18 [==============================] - 0s 2ms/step - loss: 1.5205e-04 - accuracy: 1.0000\n",
            "Epoch 121/200\n",
            "18/18 [==============================] - 0s 2ms/step - loss: 1.8479e-05 - accuracy: 1.0000\n",
            "Epoch 122/200\n",
            "18/18 [==============================] - 0s 2ms/step - loss: 3.1720e-05 - accuracy: 1.0000\n",
            "Epoch 123/200\n",
            "18/18 [==============================] - 0s 2ms/step - loss: 1.9949e-04 - accuracy: 1.0000\n",
            "Epoch 124/200\n",
            "18/18 [==============================] - 0s 2ms/step - loss: 3.8009e-05 - accuracy: 1.0000\n",
            "Epoch 125/200\n",
            "18/18 [==============================] - 0s 2ms/step - loss: 5.3893e-05 - accuracy: 1.0000\n",
            "Epoch 126/200\n",
            "18/18 [==============================] - 0s 2ms/step - loss: 1.2368e-04 - accuracy: 1.0000\n",
            "Epoch 127/200\n",
            "18/18 [==============================] - 0s 2ms/step - loss: 6.6654e-04 - accuracy: 1.0000\n",
            "Epoch 128/200\n",
            "18/18 [==============================] - 0s 2ms/step - loss: 8.0137e-06 - accuracy: 1.0000\n",
            "Epoch 129/200\n",
            "18/18 [==============================] - 0s 2ms/step - loss: 3.2196e-05 - accuracy: 1.0000\n",
            "Epoch 130/200\n",
            "18/18 [==============================] - 0s 2ms/step - loss: 1.9238e-05 - accuracy: 1.0000\n",
            "Epoch 131/200\n",
            "18/18 [==============================] - 0s 2ms/step - loss: 4.9902e-05 - accuracy: 1.0000\n",
            "Epoch 132/200\n",
            "18/18 [==============================] - 0s 2ms/step - loss: 2.5058e-04 - accuracy: 1.0000\n",
            "Epoch 133/200\n",
            "18/18 [==============================] - 0s 2ms/step - loss: 5.4682e-05 - accuracy: 1.0000\n",
            "Epoch 134/200\n",
            "18/18 [==============================] - 0s 2ms/step - loss: 9.1880e-05 - accuracy: 1.0000\n",
            "Epoch 135/200\n",
            "18/18 [==============================] - 0s 2ms/step - loss: 1.5249e-05 - accuracy: 1.0000\n",
            "Epoch 136/200\n",
            "18/18 [==============================] - 0s 2ms/step - loss: 1.0221e-04 - accuracy: 1.0000\n",
            "Epoch 137/200\n",
            "18/18 [==============================] - 0s 2ms/step - loss: 6.1904e-06 - accuracy: 1.0000\n",
            "Epoch 138/200\n",
            "18/18 [==============================] - 0s 2ms/step - loss: 1.7206e-04 - accuracy: 1.0000\n",
            "Epoch 139/200\n",
            "18/18 [==============================] - 0s 2ms/step - loss: 5.8869e-04 - accuracy: 1.0000\n",
            "Epoch 140/200\n",
            "18/18 [==============================] - 0s 2ms/step - loss: 1.6122e-04 - accuracy: 1.0000\n",
            "Epoch 141/200\n",
            "18/18 [==============================] - 0s 2ms/step - loss: 1.3266e-04 - accuracy: 1.0000\n",
            "Epoch 142/200\n",
            "18/18 [==============================] - 0s 2ms/step - loss: 1.3361e-05 - accuracy: 1.0000\n",
            "Epoch 143/200\n",
            "18/18 [==============================] - 0s 2ms/step - loss: 4.7750e-05 - accuracy: 1.0000\n",
            "Epoch 144/200\n",
            "18/18 [==============================] - 0s 2ms/step - loss: 3.3217e-04 - accuracy: 1.0000\n",
            "Epoch 145/200\n",
            "18/18 [==============================] - 0s 2ms/step - loss: 1.0669e-04 - accuracy: 1.0000\n",
            "Epoch 146/200\n",
            "18/18 [==============================] - 0s 2ms/step - loss: 8.4683e-04 - accuracy: 1.0000\n",
            "Epoch 147/200\n",
            "18/18 [==============================] - 0s 2ms/step - loss: 8.5659e-06 - accuracy: 1.0000\n",
            "Epoch 148/200\n",
            "18/18 [==============================] - 0s 2ms/step - loss: 2.2537e-04 - accuracy: 1.0000\n",
            "Epoch 149/200\n",
            "18/18 [==============================] - 0s 3ms/step - loss: 2.3514e-04 - accuracy: 1.0000\n",
            "Epoch 150/200\n",
            "18/18 [==============================] - 0s 2ms/step - loss: 1.4145e-05 - accuracy: 1.0000\n",
            "Epoch 151/200\n",
            "18/18 [==============================] - 0s 2ms/step - loss: 1.1477e-04 - accuracy: 1.0000\n",
            "Epoch 152/200\n",
            "18/18 [==============================] - 0s 2ms/step - loss: 8.2233e-06 - accuracy: 1.0000\n",
            "Epoch 153/200\n",
            "18/18 [==============================] - 0s 2ms/step - loss: 5.2985e-04 - accuracy: 1.0000\n",
            "Epoch 154/200\n",
            "18/18 [==============================] - 0s 2ms/step - loss: 1.0309e-05 - accuracy: 1.0000\n",
            "Epoch 155/200\n",
            "18/18 [==============================] - 0s 2ms/step - loss: 6.6139e-04 - accuracy: 1.0000\n",
            "Epoch 156/200\n",
            "18/18 [==============================] - 0s 2ms/step - loss: 9.5805e-06 - accuracy: 1.0000\n",
            "Epoch 157/200\n",
            "18/18 [==============================] - 0s 2ms/step - loss: 4.3807e-04 - accuracy: 1.0000\n",
            "Epoch 158/200\n",
            "18/18 [==============================] - 0s 2ms/step - loss: 1.7758e-04 - accuracy: 1.0000\n",
            "Epoch 159/200\n",
            "18/18 [==============================] - 0s 2ms/step - loss: 5.6435e-05 - accuracy: 1.0000\n",
            "Epoch 160/200\n",
            "18/18 [==============================] - 0s 2ms/step - loss: 3.2482e-04 - accuracy: 1.0000\n",
            "Epoch 161/200\n",
            "18/18 [==============================] - 0s 2ms/step - loss: 2.0585e-04 - accuracy: 1.0000\n",
            "Epoch 162/200\n",
            "18/18 [==============================] - 0s 2ms/step - loss: 2.0349e-04 - accuracy: 1.0000\n",
            "Epoch 163/200\n",
            "18/18 [==============================] - 0s 2ms/step - loss: 7.1689e-05 - accuracy: 1.0000\n",
            "Epoch 164/200\n",
            "18/18 [==============================] - 0s 2ms/step - loss: 1.0452e-04 - accuracy: 1.0000\n",
            "Epoch 165/200\n",
            "18/18 [==============================] - 0s 3ms/step - loss: 1.6700e-04 - accuracy: 1.0000\n",
            "Epoch 166/200\n",
            "18/18 [==============================] - 0s 2ms/step - loss: 8.1997e-05 - accuracy: 1.0000\n",
            "Epoch 167/200\n",
            "18/18 [==============================] - 0s 2ms/step - loss: 1.8706e-04 - accuracy: 1.0000\n",
            "Epoch 168/200\n",
            "18/18 [==============================] - 0s 2ms/step - loss: 7.0961e-04 - accuracy: 1.0000\n",
            "Epoch 169/200\n",
            "18/18 [==============================] - 0s 2ms/step - loss: 2.3277e-05 - accuracy: 1.0000\n",
            "Epoch 170/200\n",
            "18/18 [==============================] - 0s 2ms/step - loss: 1.3510e-05 - accuracy: 1.0000\n",
            "Epoch 171/200\n",
            "18/18 [==============================] - 0s 2ms/step - loss: 5.2029e-05 - accuracy: 1.0000\n",
            "Epoch 172/200\n",
            "18/18 [==============================] - 0s 2ms/step - loss: 2.2180e-05 - accuracy: 1.0000\n",
            "Epoch 173/200\n",
            "18/18 [==============================] - 0s 2ms/step - loss: 2.2785e-05 - accuracy: 1.0000\n",
            "Epoch 174/200\n",
            "18/18 [==============================] - 0s 2ms/step - loss: 3.8674e-05 - accuracy: 1.0000\n",
            "Epoch 175/200\n",
            "18/18 [==============================] - 0s 2ms/step - loss: 2.2595e-05 - accuracy: 1.0000\n",
            "Epoch 176/200\n",
            "18/18 [==============================] - 0s 2ms/step - loss: 4.3453e-05 - accuracy: 1.0000\n",
            "Epoch 177/200\n",
            "18/18 [==============================] - 0s 2ms/step - loss: 1.8958e-04 - accuracy: 1.0000\n",
            "Epoch 178/200\n",
            "18/18 [==============================] - 0s 2ms/step - loss: 1.8972e-04 - accuracy: 1.0000\n",
            "Epoch 179/200\n",
            "18/18 [==============================] - 0s 2ms/step - loss: 4.0289e-04 - accuracy: 1.0000\n",
            "Epoch 180/200\n",
            "18/18 [==============================] - 0s 2ms/step - loss: 2.5592e-05 - accuracy: 1.0000\n",
            "Epoch 181/200\n",
            "18/18 [==============================] - 0s 2ms/step - loss: 2.5196e-05 - accuracy: 1.0000\n",
            "Epoch 182/200\n",
            "18/18 [==============================] - 0s 2ms/step - loss: 1.5617e-04 - accuracy: 1.0000\n",
            "Epoch 183/200\n",
            "18/18 [==============================] - 0s 2ms/step - loss: 1.7959e-04 - accuracy: 1.0000\n",
            "Epoch 184/200\n",
            "18/18 [==============================] - 0s 2ms/step - loss: 3.9857e-05 - accuracy: 1.0000\n",
            "Epoch 185/200\n",
            "18/18 [==============================] - 0s 2ms/step - loss: 2.0819e-05 - accuracy: 1.0000\n",
            "Epoch 186/200\n",
            "18/18 [==============================] - 0s 2ms/step - loss: 7.0922e-06 - accuracy: 1.0000\n",
            "Epoch 187/200\n",
            "18/18 [==============================] - 0s 2ms/step - loss: 4.1989e-05 - accuracy: 1.0000\n",
            "Epoch 188/200\n",
            "18/18 [==============================] - 0s 2ms/step - loss: 1.0269e-04 - accuracy: 1.0000\n",
            "Epoch 189/200\n",
            "18/18 [==============================] - 0s 2ms/step - loss: 8.2414e-04 - accuracy: 1.0000\n",
            "Epoch 190/200\n",
            "18/18 [==============================] - 0s 2ms/step - loss: 1.0982e-04 - accuracy: 1.0000\n",
            "Epoch 191/200\n",
            "18/18 [==============================] - 0s 2ms/step - loss: 8.0500e-06 - accuracy: 1.0000\n",
            "Epoch 192/200\n",
            "18/18 [==============================] - 0s 2ms/step - loss: 6.5792e-05 - accuracy: 1.0000\n",
            "Epoch 193/200\n",
            "18/18 [==============================] - 0s 2ms/step - loss: 4.6854e-05 - accuracy: 1.0000\n",
            "Epoch 194/200\n",
            "18/18 [==============================] - 0s 2ms/step - loss: 3.1256e-05 - accuracy: 1.0000\n",
            "Epoch 195/200\n",
            "18/18 [==============================] - 0s 2ms/step - loss: 3.2998e-06 - accuracy: 1.0000\n",
            "Epoch 196/200\n",
            "18/18 [==============================] - 0s 2ms/step - loss: 3.0130e-05 - accuracy: 1.0000\n",
            "Epoch 197/200\n",
            "18/18 [==============================] - 0s 2ms/step - loss: 2.7725e-04 - accuracy: 1.0000\n",
            "Epoch 198/200\n",
            "18/18 [==============================] - 0s 2ms/step - loss: 7.0092e-04 - accuracy: 1.0000\n",
            "Epoch 199/200\n",
            "18/18 [==============================] - 0s 2ms/step - loss: 7.2944e-06 - accuracy: 1.0000\n",
            "Epoch 200/200\n",
            "18/18 [==============================] - 0s 2ms/step - loss: 1.2969e-04 - accuracy: 1.0000\n",
            "model created\n"
          ],
          "name": "stdout"
        }
      ]
    },
    {
      "cell_type": "code",
      "metadata": {
        "id": "K7R5HHb1aRU7",
        "colab_type": "code",
        "colab": {}
      },
      "source": [
        "import nltk\n",
        "from nltk.stem import WordNetLemmatizer\n",
        "lemmatizer = WordNetLemmatizer()\n",
        "import pickle\n",
        "import numpy as np\n",
        "from keras.models import load_model\n",
        "model = load_model('chatbot_model.h5')\n",
        "import json\n",
        "import random\n",
        "intents = json.loads(open('intents.json').read())\n",
        "words = pickle.load(open('words.pkl','rb'))\n",
        "classes = pickle.load(open('classes.pkl','rb'))"
      ],
      "execution_count": 26,
      "outputs": []
    },
    {
      "cell_type": "code",
      "metadata": {
        "id": "2xm1p3KxaqQ2",
        "colab_type": "code",
        "colab": {}
      },
      "source": [
        "def clean_up_sentence(sentence):\n",
        "    # tokenize the pattern - split words into array\n",
        "    sentence_words = nltk.word_tokenize(sentence)\n",
        "    # stem each word - create short form for word\n",
        "    sentence_words = [lemmatizer.lemmatize(word.lower()) for word in sentence_words]\n",
        "    return sentence_words\n",
        "# return bag of words array: 0 or 1 for each word in the bag that exists in the sentence\n",
        "def bow(sentence, words, show_details=True):\n",
        "    # tokenize the pattern\n",
        "    sentence_words = clean_up_sentence(sentence)\n",
        "    # bag of words - matrix of N words, vocabulary matrix\n",
        "    bag = [0]*len(words) \n",
        "    for s in sentence_words:\n",
        "        for i,w in enumerate(words):\n",
        "            if w == s: \n",
        "                # assign 1 if current word is in the vocabulary position\n",
        "                bag[i] = 1\n",
        "                if show_details:\n",
        "                    print (\"found in bag: %s\" % w)\n",
        "    return(np.array(bag))\n",
        "def predict_class(sentence, model):\n",
        "    # filter out predictions below a threshold\n",
        "    p = bow(sentence, words,show_details=False)\n",
        "    res = model.predict(np.array([p]))[0]\n",
        "    ERROR_THRESHOLD = 0.25\n",
        "    results = [[i,r] for i,r in enumerate(res) if r>ERROR_THRESHOLD]\n",
        "    # sort by strength of probability\n",
        "    results.sort(key=lambda x: x[1], reverse=True)\n",
        "    return_list = []\n",
        "    for r in results:\n",
        "        return_list.append({\"intent\": classes[r[0]], \"probability\": str(r[1])})\n",
        "    return return_list"
      ],
      "execution_count": 27,
      "outputs": []
    },
    {
      "cell_type": "code",
      "metadata": {
        "id": "DgaHwv5fas7-",
        "colab_type": "code",
        "colab": {}
      },
      "source": [
        "def getResponse(ints, intents_json):\n",
        "    tag = ints[0]['intent']\n",
        "    list_of_intents = intents_json['intents']\n",
        "    for i in list_of_intents:\n",
        "        if(i['tag']== tag):\n",
        "            result = random.choice(i['responses'])\n",
        "            break\n",
        "    return result\n",
        "def chatbot_response(text):\n",
        "    ints = predict_class(text, model)\n",
        "    res = getResponse(ints, intents)\n",
        "    return res"
      ],
      "execution_count": 28,
      "outputs": []
    },
    {
      "cell_type": "code",
      "metadata": {
        "id": "rJtdspInaw20",
        "colab_type": "code",
        "colab": {
          "base_uri": "https://localhost:8080/",
          "height": 129
        },
        "outputId": "70383ab1-4859-49f6-f55d-eba80d7875be"
      },
      "source": [
        "#Creating GUI with tkinter\n",
        "import tkinter\n",
        "from tkinter import *\n",
        " \n",
        "def send():\n",
        "    \n",
        "    msg = EntryBox.get(\"1.0\",'end-1c').strip()\n",
        "    EntryBox.delete(\"0.0\",END)\n",
        "if msg != '':\n",
        "        ChatLog.config(state=NORMAL)\n",
        "        ChatLog.insert(END, \"You: \" + msg + '\\n\\n')\n",
        "        ChatLog.config(foreground=\"#442265\", font=(\"Verdana\", 12 ))\n",
        "        res = chatbot_response(msg)\n",
        "        ChatLog.insert(END, \"Bot: \" + res + '\\n\\n')\n",
        "        ChatLog.config(state=DISABLED)\n",
        "        ChatLog.yview(END)\n",
        "base = Tk()\n",
        "base.title(\"Hello\")\n",
        "base.geometry(\"400x500\")\n",
        "base.resizable(width=FALSE, height=FALSE)\n",
        "#Create Chat window\n",
        "ChatLog = Text(base, bd=0, bg=\"white\", height=\"8\", width=\"50\", font=\"Arial\",)\n",
        "ChatLog.config(state=DISABLED)\n",
        "#Bind scrollbar to Chat window\n",
        "scrollbar = Scrollbar(base, command=ChatLog.yview, cursor=\"heart\")\n",
        "ChatLog['yscrollcommand'] = scrollbar.set\n",
        "#Create Button to send message\n",
        "SendButton = Button(base, font=(\"Verdana\",12,'bold'), text=\"Send\", width=\"12\", height=5,\n",
        "                    bd=0, bg=\"#32de97\", activebackground=\"#3c9d9b\",fg='#ffffff',\n",
        "                    command= send )\n",
        "#Create the box to enter message\n",
        "EntryBox = Text(base, bd=0, bg=\"white\",width=\"29\", height=\"5\", font=\"Arial\")\n",
        "#EntryBox.bind(\"<Return>\", send)\n",
        "#Place all components on the screen\n",
        "scrollbar.place(x=376,y=6, height=386)\n",
        "ChatLog.place(x=6,y=6, height=386, width=370)\n",
        "EntryBox.place(x=128, y=401, height=90, width=265)\n",
        "SendButton.place(x=6, y=401, height=90)\n",
        "base.mainloop()"
      ],
      "execution_count": 39,
      "outputs": [
        {
          "output_type": "error",
          "ename": "SyntaxError",
          "evalue": "ignored",
          "traceback": [
            "\u001b[0;36m  File \u001b[0;32m\"<ipython-input-39-6658b525a800>\"\u001b[0;36m, line \u001b[0;32m4\u001b[0m\n\u001b[0;31m    Dim msg As DJMessage\u001b[0m\n\u001b[0m          ^\u001b[0m\n\u001b[0;31mSyntaxError\u001b[0m\u001b[0;31m:\u001b[0m invalid syntax\n"
          ]
        }
      ]
    },
    {
      "cell_type": "code",
      "metadata": {
        "id": "Qlb0lQXnnJUC",
        "colab_type": "code",
        "colab": {}
      },
      "source": [
        "python train_chatbot.py"
      ],
      "execution_count": null,
      "outputs": []
    },
    {
      "cell_type": "code",
      "metadata": {
        "id": "RXKuqYTXnQGs",
        "colab_type": "code",
        "colab": {}
      },
      "source": [
        "python chatgui.py"
      ],
      "execution_count": null,
      "outputs": []
    }
  ]
}